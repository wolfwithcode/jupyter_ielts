{
 "cells": [
  {
   "cell_type": "code",
   "execution_count": 46,
   "id": "f5549527",
   "metadata": {},
   "outputs": [
    {
     "name": "stdout",
     "output_type": "stream",
     "text": [
      "{'word_title': 'Confirm / 28: [ v ]', 'content': [{'key': 'pronunciation', 'value': \"/ kən'fɜrm /\"}, {'key': 'meaningEnglish', 'value': '= State or prove the truth of; substantiate'}, {'key': 'meaningVietnamese', 'value': '( Xác nhận, chứng thực)'}, {'key': 'example', 'value': 'Ex: My physician thought I had borken my wrist, and an X ray later confirmed hisopinion.'}, {'key': 'meaningVietnamese', 'value': '( Vị bác sĩ của tôi nghĩ rằng tôi đã bị gãy cổ tay và việc chụp X quang sau đó đã xácnhận y kiến của ông là đúng.)'}, {'key': 'unknown', 'value': ''}], 'index': 3}\n"
     ]
    }
   ],
   "source": [
    "\n",
    "import json\n",
    "\n",
    "with open('dataLi3.json') as f:\n",
    "    data = json.load(f)\n",
    "    \n",
    "results=[]\n",
    "index=0\n",
    "patternPronunciation = '[/]'\n",
    "for item in data:\n",
    "  if '/' in item['word_title'] : \n",
    "    item['index']=index\n",
    "    results.append(item)\n",
    "    index+=1\n",
    "\n",
    "print(results[3])\n",
    "\n",
    "\n",
    "with open('dataLi4.json', 'w', encoding='utf8') as json_file:\n",
    "    json.dump(results,json_file, ensure_ascii=False)\n",
    "\n"
   ]
  }
 ],
 "metadata": {
  "kernelspec": {
   "display_name": "Python 3",
   "language": "python",
   "name": "python3"
  },
  "language_info": {
   "codemirror_mode": {
    "name": "ipython",
    "version": 3
   },
   "file_extension": ".py",
   "mimetype": "text/x-python",
   "name": "python",
   "nbconvert_exporter": "python",
   "pygments_lexer": "ipython3",
   "version": "3.6.9"
  }
 },
 "nbformat": 4,
 "nbformat_minor": 5
}
