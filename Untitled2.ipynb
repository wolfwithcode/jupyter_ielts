{
 "cells": [
  {
   "cell_type": "code",
   "execution_count": 7,
   "id": "39120938",
   "metadata": {},
   "outputs": [
    {
     "name": "stdout",
     "output_type": "stream",
     "text": [
      "true\n"
     ]
    }
   ],
   "source": [
    "var str = \"IELTS VOCABULARY – WEEK 333\";\n",
    "var n = str.includes(\"IELTS VOCABULARY – WEEK\");\n",
    "console.log(n)"
   ]
  },
  {
   "cell_type": "code",
   "execution_count": 13,
   "id": "16e1dcf7",
   "metadata": {},
   "outputs": [
    {
     "name": "stdout",
     "output_type": "stream",
     "text": [
      "true\n"
     ]
    }
   ],
   "source": [
    "str11 = \"=Mary had a little lamb\";\n",
    "console.log( /^=/.test(str11) ); // true"
   ]
  },
  {
   "cell_type": "code",
   "execution_count": null,
   "id": "d6572ce9",
   "metadata": {},
   "outputs": [],
   "source": []
  }
 ],
 "metadata": {
  "kernelspec": {
   "display_name": "Javascript (Node.js)",
   "language": "javascript",
   "name": "javascript"
  },
  "language_info": {
   "file_extension": ".js",
   "mimetype": "application/javascript",
   "name": "javascript",
   "version": "12.13.0"
  }
 },
 "nbformat": 4,
 "nbformat_minor": 5
}
