{
 "cells": [
  {
   "cell_type": "code",
   "execution_count": 3,
   "id": "4ed39b63",
   "metadata": {},
   "outputs": [
    {
     "data": {
      "text/plain": [
       "[ 'dbbd', 'bb', index: 1, input: 'cdbbdbsbz', groups: undefined ]"
      ]
     },
     "execution_count": 3,
     "metadata": {},
     "output_type": "execute_result"
    }
   ],
   "source": [
    "var myRe = /d(b+)d/g;\n",
    "var myArray = myRe.exec('cdbbdbsbz');\n",
    "myArray"
   ]
  },
  {
   "cell_type": "code",
   "execution_count": 11,
   "id": "caa56c01",
   "metadata": {},
   "outputs": [
    {
     "ename": "ReferenceError",
     "evalue": "npm is not defined",
     "output_type": "error",
     "traceback": [
      "evalmachine.<anonymous>:1",
      "npm.install('silverlining')",
      "^",
      "",
      "ReferenceError: npm is not defined",
      "    at evalmachine.<anonymous>:1:1",
      "    at Script.runInThisContext (vm.js:116:20)",
      "    at Object.runInThisContext (vm.js:306:38)",
      "    at run ([eval]:1054:15)",
      "    at onRunRequest ([eval]:888:18)",
      "    at onMessage ([eval]:848:13)",
      "    at process.emit (events.js:210:5)",
      "    at emit (internal/child_process.js:876:12)",
      "    at processTicksAndRejections (internal/process/task_queues.js:81:21)"
     ]
    }
   ],
   "source": []
  },
  {
   "cell_type": "code",
   "execution_count": null,
   "id": "63cc9184",
   "metadata": {},
   "outputs": [],
   "source": []
  },
  {
   "cell_type": "code",
   "execution_count": 4,
   "id": "75744221",
   "metadata": {},
   "outputs": [
    {
     "name": "stdout",
     "output_type": "stream",
     "text": [
      "The value of lastIndex is 5\n"
     ]
    }
   ],
   "source": [
    "var myRe = /d(b+)d/g;\n",
    "var myArray = myRe.exec('cdbbdbsbz');\n",
    "console.log('The value of lastIndex is ' + myRe.lastIndex);"
   ]
  },
  {
   "cell_type": "code",
   "execution_count": 5,
   "id": "9f95c4c9",
   "metadata": {},
   "outputs": [
    {
     "data": {
      "text/plain": [
       "Server {\n",
       "  _events: [Object: null prototype] {\n",
       "    request: [Function],\n",
       "    connection: [Function: connectionListener]\n",
       "  },\n",
       "  _eventsCount: 2,\n",
       "  _maxListeners: undefined,\n",
       "  _connections: 0,\n",
       "  _handle: TCP {\n",
       "    reading: false,\n",
       "    onconnection: [Function: onconnection],\n",
       "    [Symbol(owner)]: [Circular]\n",
       "  },\n",
       "  _usingWorkers: false,\n",
       "  _workers: [],\n",
       "  _unref: false,\n",
       "  allowHalfOpen: true,\n",
       "  pauseOnConnect: false,\n",
       "  httpAllowHalfOpen: false,\n",
       "  timeout: 120000,\n",
       "  keepAliveTimeout: 5000,\n",
       "  maxHeadersCount: null,\n",
       "  headersTimeout: 40000,\n",
       "  _connectionKey: '6::::8080',\n",
       "  [Symbol(IncomingMessage)]: [Function: IncomingMessage],\n",
       "  [Symbol(ServerResponse)]: [Function: ServerResponse],\n",
       "  [Symbol(asyncId)]: 31\n",
       "}"
      ]
     },
     "execution_count": 5,
     "metadata": {},
     "output_type": "execute_result"
    }
   ],
   "source": [
    "var http = require('http');\n",
    "\n",
    "http.createServer(function (req, res) {\n",
    "  res.writeHead(200, {'Content-Type': 'text/html'});\n",
    "  res.end('Hello World!');\n",
    "}).listen(8080);"
   ]
  },
  {
   "cell_type": "code",
   "execution_count": 10,
   "id": "d149d382",
   "metadata": {},
   "outputs": [
    {
     "ename": "SyntaxError",
     "evalue": "Identifier '_' has already been declared",
     "output_type": "error",
     "traceback": [
      "evalmachine.<anonymous>:1",
      "const _ = require('lodash')",
      "^",
      "",
      "SyntaxError: Identifier '_' has already been declared",
      "    at evalmachine.<anonymous>:1:1",
      "    at Script.runInThisContext (vm.js:116:20)",
      "    at Object.runInThisContext (vm.js:306:38)",
      "    at run ([eval]:1054:15)",
      "    at onRunRequest ([eval]:888:18)",
      "    at onMessage ([eval]:848:13)",
      "    at process.emit (events.js:210:5)",
      "    at emit (internal/child_process.js:876:12)",
      "    at processTicksAndRejections (internal/process/task_queues.js:81:21)"
     ]
    }
   ],
   "source": [
    "const _ = require('lodash')\n",
    "var users = [\n",
    "    { name: \"John\", age: 30 },\n",
    "    { name: \"Jane\", age: 28 },\n",
    "    { name: \"Bill\", age: 65 },\n",
    "    { name: \"Emily\", age: 17 },\n",
    "    { name: \"Jack\", age: 30 }\n",
    "]\n",
    "\n",
    "var reducedUsers = _.reduce(users, function (result, user) {\n",
    "    if(user.age >= 18 && user.age <= 59) {\n",
    "        (result[user.age] || (result[user.age] = [])).push(user);\n",
    "    }\n",
    "  \n",
    "    return result;\n",
    "}, {});\n",
    "\n",
    "// reducedUsers -> { \n",
    "//     28: [{ name: \"Jane\", age: 28 }], \n",
    "//     30: [{ name: \"John\", age: 30 }, { name: \"Jack\", age: 30 }] \n",
    "// }"
   ]
  },
  {
   "cell_type": "code",
   "execution_count": 12,
   "id": "b2c75550",
   "metadata": {},
   "outputs": [
    {
     "ename": "SyntaxError",
     "evalue": "Cannot use import statement outside a module",
     "output_type": "error",
     "traceback": [
      "evalmachine.<anonymous>:1",
      "import pixiedust_node",
      "^^^^^^",
      "",
      "SyntaxError: Cannot use import statement outside a module",
      "    at new Script (vm.js:84:7)",
      "    at createScript (vm.js:258:10)",
      "    at Object.runInThisContext (vm.js:306:10)",
      "    at run ([eval]:1054:15)",
      "    at onRunRequest ([eval]:888:18)",
      "    at onMessage ([eval]:848:13)",
      "    at process.emit (events.js:210:5)",
      "    at emit (internal/child_process.js:876:12)",
      "    at processTicksAndRejections (internal/process/task_queues.js:81:21)"
     ]
    }
   ],
   "source": [
    "import pixiedust_node"
   ]
  }
 ],
 "metadata": {
  "kernelspec": {
   "display_name": "Javascript (Node.js)",
   "language": "javascript",
   "name": "javascript"
  },
  "language_info": {
   "file_extension": ".js",
   "mimetype": "application/javascript",
   "name": "javascript",
   "version": "12.13.0"
  }
 },
 "nbformat": 4,
 "nbformat_minor": 5
}
